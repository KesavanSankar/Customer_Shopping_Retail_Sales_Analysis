{
  "nbformat": 4,
  "nbformat_minor": 0,
  "metadata": {
    "colab": {
      "provenance": [],
      "authorship_tag": "ABX9TyPi4hIHUbzVQI7N5iP1Iwsr",
      "include_colab_link": true
    },
    "kernelspec": {
      "name": "python3",
      "display_name": "Python 3"
    },
    "language_info": {
      "name": "python"
    }
  },
  "cells": [
    {
      "cell_type": "markdown",
      "metadata": {
        "id": "view-in-github",
        "colab_type": "text"
      },
      "source": [
        "<a href=\"https://colab.research.google.com/github/KesavanSankar/Customer_Shopping_Retail_Sales_Analysis/blob/main/customer_shopping_retail_sales_analysis.ipynb\" target=\"_parent\"><img src=\"https://colab.research.google.com/assets/colab-badge.svg\" alt=\"Open In Colab\"/></a>"
      ]
    },
    {
      "cell_type": "code",
      "execution_count": 43,
      "metadata": {
        "id": "hdJ4RPFjEBxV"
      },
      "outputs": [],
      "source": [
        "import pandas as pd\n",
        "import numpy as np\n",
        "import matplotlib.pyplot as plt"
      ]
    },
    {
      "cell_type": "code",
      "source": [
        "df=pd.read_csv(\"/content/sample_data/customer_shopping_data.csv\")"
      ],
      "metadata": {
        "id": "Odawp08MEesM"
      },
      "execution_count": 2,
      "outputs": []
    },
    {
      "cell_type": "code",
      "source": [
        "df"
      ],
      "metadata": {
        "colab": {
          "base_uri": "https://localhost:8080/",
          "height": 423
        },
        "id": "GAoP-FQMZYYh",
        "outputId": "dc2f9756-8c53-4385-975c-0110e0e6a754"
      },
      "execution_count": null,
      "outputs": [
        {
          "output_type": "execute_result",
          "data": {
            "text/plain": [
              "      invoice_no customer_id  gender  age         category  quantity    price  \\\n",
              "0        I138884     C241288  Female   28         Clothing         5  1500.40   \n",
              "1        I317333     C111565    Male   21            Shoes         3  1800.51   \n",
              "2        I127801     C266599    Male   20         Clothing         1   300.08   \n",
              "3        I173702     C988172  Female   66            Shoes         5  3000.85   \n",
              "4        I337046     C189076  Female   53            Books         4    60.60   \n",
              "...          ...         ...     ...  ...              ...       ...      ...   \n",
              "69121    I230242     C651346  Female   67  Food & Beverage         4    20.92   \n",
              "69122    I159557     C234753  Female   40        Cosmetics         4   162.64   \n",
              "69123    I699021     C269282    Male   63         Clothing         4  1200.32   \n",
              "69124    I110718     C734127  Female   31            Shoes         3  1800.51   \n",
              "69125    I225870     C245558  Female   21       Technology         5  5250.00   \n",
              "\n",
              "      payment_method invoice_date     shopping_mall  \n",
              "0        Credit Card     5/8/2022            Kanyon  \n",
              "1         Debit Card   12/12/2021    Forum Istanbul  \n",
              "2               Cash    9/11/2021         Metrocity  \n",
              "3        Credit Card   16/05/2021      Metropol AVM  \n",
              "4               Cash   24/10/2021            Kanyon  \n",
              "...              ...          ...               ...  \n",
              "69121           Cash     1/4/2021            Kanyon  \n",
              "69122    Credit Card   31/07/2021  Mall of Istanbul  \n",
              "69123     Debit Card    7/11/2021         Metrocity  \n",
              "69124    Credit Card     4/8/2021            Kanyon  \n",
              "69125     Debit Card   14/08/2022               NaN  \n",
              "\n",
              "[69126 rows x 10 columns]"
            ],
            "text/html": [
              "\n",
              "  <div id=\"df-d6ebfef3-ccb2-4568-a070-2ac33d7d685d\">\n",
              "    <div class=\"colab-df-container\">\n",
              "      <div>\n",
              "<style scoped>\n",
              "    .dataframe tbody tr th:only-of-type {\n",
              "        vertical-align: middle;\n",
              "    }\n",
              "\n",
              "    .dataframe tbody tr th {\n",
              "        vertical-align: top;\n",
              "    }\n",
              "\n",
              "    .dataframe thead th {\n",
              "        text-align: right;\n",
              "    }\n",
              "</style>\n",
              "<table border=\"1\" class=\"dataframe\">\n",
              "  <thead>\n",
              "    <tr style=\"text-align: right;\">\n",
              "      <th></th>\n",
              "      <th>invoice_no</th>\n",
              "      <th>customer_id</th>\n",
              "      <th>gender</th>\n",
              "      <th>age</th>\n",
              "      <th>category</th>\n",
              "      <th>quantity</th>\n",
              "      <th>price</th>\n",
              "      <th>payment_method</th>\n",
              "      <th>invoice_date</th>\n",
              "      <th>shopping_mall</th>\n",
              "    </tr>\n",
              "  </thead>\n",
              "  <tbody>\n",
              "    <tr>\n",
              "      <th>0</th>\n",
              "      <td>I138884</td>\n",
              "      <td>C241288</td>\n",
              "      <td>Female</td>\n",
              "      <td>28</td>\n",
              "      <td>Clothing</td>\n",
              "      <td>5</td>\n",
              "      <td>1500.40</td>\n",
              "      <td>Credit Card</td>\n",
              "      <td>5/8/2022</td>\n",
              "      <td>Kanyon</td>\n",
              "    </tr>\n",
              "    <tr>\n",
              "      <th>1</th>\n",
              "      <td>I317333</td>\n",
              "      <td>C111565</td>\n",
              "      <td>Male</td>\n",
              "      <td>21</td>\n",
              "      <td>Shoes</td>\n",
              "      <td>3</td>\n",
              "      <td>1800.51</td>\n",
              "      <td>Debit Card</td>\n",
              "      <td>12/12/2021</td>\n",
              "      <td>Forum Istanbul</td>\n",
              "    </tr>\n",
              "    <tr>\n",
              "      <th>2</th>\n",
              "      <td>I127801</td>\n",
              "      <td>C266599</td>\n",
              "      <td>Male</td>\n",
              "      <td>20</td>\n",
              "      <td>Clothing</td>\n",
              "      <td>1</td>\n",
              "      <td>300.08</td>\n",
              "      <td>Cash</td>\n",
              "      <td>9/11/2021</td>\n",
              "      <td>Metrocity</td>\n",
              "    </tr>\n",
              "    <tr>\n",
              "      <th>3</th>\n",
              "      <td>I173702</td>\n",
              "      <td>C988172</td>\n",
              "      <td>Female</td>\n",
              "      <td>66</td>\n",
              "      <td>Shoes</td>\n",
              "      <td>5</td>\n",
              "      <td>3000.85</td>\n",
              "      <td>Credit Card</td>\n",
              "      <td>16/05/2021</td>\n",
              "      <td>Metropol AVM</td>\n",
              "    </tr>\n",
              "    <tr>\n",
              "      <th>4</th>\n",
              "      <td>I337046</td>\n",
              "      <td>C189076</td>\n",
              "      <td>Female</td>\n",
              "      <td>53</td>\n",
              "      <td>Books</td>\n",
              "      <td>4</td>\n",
              "      <td>60.60</td>\n",
              "      <td>Cash</td>\n",
              "      <td>24/10/2021</td>\n",
              "      <td>Kanyon</td>\n",
              "    </tr>\n",
              "    <tr>\n",
              "      <th>...</th>\n",
              "      <td>...</td>\n",
              "      <td>...</td>\n",
              "      <td>...</td>\n",
              "      <td>...</td>\n",
              "      <td>...</td>\n",
              "      <td>...</td>\n",
              "      <td>...</td>\n",
              "      <td>...</td>\n",
              "      <td>...</td>\n",
              "      <td>...</td>\n",
              "    </tr>\n",
              "    <tr>\n",
              "      <th>69121</th>\n",
              "      <td>I230242</td>\n",
              "      <td>C651346</td>\n",
              "      <td>Female</td>\n",
              "      <td>67</td>\n",
              "      <td>Food &amp; Beverage</td>\n",
              "      <td>4</td>\n",
              "      <td>20.92</td>\n",
              "      <td>Cash</td>\n",
              "      <td>1/4/2021</td>\n",
              "      <td>Kanyon</td>\n",
              "    </tr>\n",
              "    <tr>\n",
              "      <th>69122</th>\n",
              "      <td>I159557</td>\n",
              "      <td>C234753</td>\n",
              "      <td>Female</td>\n",
              "      <td>40</td>\n",
              "      <td>Cosmetics</td>\n",
              "      <td>4</td>\n",
              "      <td>162.64</td>\n",
              "      <td>Credit Card</td>\n",
              "      <td>31/07/2021</td>\n",
              "      <td>Mall of Istanbul</td>\n",
              "    </tr>\n",
              "    <tr>\n",
              "      <th>69123</th>\n",
              "      <td>I699021</td>\n",
              "      <td>C269282</td>\n",
              "      <td>Male</td>\n",
              "      <td>63</td>\n",
              "      <td>Clothing</td>\n",
              "      <td>4</td>\n",
              "      <td>1200.32</td>\n",
              "      <td>Debit Card</td>\n",
              "      <td>7/11/2021</td>\n",
              "      <td>Metrocity</td>\n",
              "    </tr>\n",
              "    <tr>\n",
              "      <th>69124</th>\n",
              "      <td>I110718</td>\n",
              "      <td>C734127</td>\n",
              "      <td>Female</td>\n",
              "      <td>31</td>\n",
              "      <td>Shoes</td>\n",
              "      <td>3</td>\n",
              "      <td>1800.51</td>\n",
              "      <td>Credit Card</td>\n",
              "      <td>4/8/2021</td>\n",
              "      <td>Kanyon</td>\n",
              "    </tr>\n",
              "    <tr>\n",
              "      <th>69125</th>\n",
              "      <td>I225870</td>\n",
              "      <td>C245558</td>\n",
              "      <td>Female</td>\n",
              "      <td>21</td>\n",
              "      <td>Technology</td>\n",
              "      <td>5</td>\n",
              "      <td>5250.00</td>\n",
              "      <td>Debit Card</td>\n",
              "      <td>14/08/2022</td>\n",
              "      <td>NaN</td>\n",
              "    </tr>\n",
              "  </tbody>\n",
              "</table>\n",
              "<p>69126 rows × 10 columns</p>\n",
              "</div>\n",
              "      <button class=\"colab-df-convert\" onclick=\"convertToInteractive('df-d6ebfef3-ccb2-4568-a070-2ac33d7d685d')\"\n",
              "              title=\"Convert this dataframe to an interactive table.\"\n",
              "              style=\"display:none;\">\n",
              "        \n",
              "  <svg xmlns=\"http://www.w3.org/2000/svg\" height=\"24px\"viewBox=\"0 0 24 24\"\n",
              "       width=\"24px\">\n",
              "    <path d=\"M0 0h24v24H0V0z\" fill=\"none\"/>\n",
              "    <path d=\"M18.56 5.44l.94 2.06.94-2.06 2.06-.94-2.06-.94-.94-2.06-.94 2.06-2.06.94zm-11 1L8.5 8.5l.94-2.06 2.06-.94-2.06-.94L8.5 2.5l-.94 2.06-2.06.94zm10 10l.94 2.06.94-2.06 2.06-.94-2.06-.94-.94-2.06-.94 2.06-2.06.94z\"/><path d=\"M17.41 7.96l-1.37-1.37c-.4-.4-.92-.59-1.43-.59-.52 0-1.04.2-1.43.59L10.3 9.45l-7.72 7.72c-.78.78-.78 2.05 0 2.83L4 21.41c.39.39.9.59 1.41.59.51 0 1.02-.2 1.41-.59l7.78-7.78 2.81-2.81c.8-.78.8-2.07 0-2.86zM5.41 20L4 18.59l7.72-7.72 1.47 1.35L5.41 20z\"/>\n",
              "  </svg>\n",
              "      </button>\n",
              "      \n",
              "  <style>\n",
              "    .colab-df-container {\n",
              "      display:flex;\n",
              "      flex-wrap:wrap;\n",
              "      gap: 12px;\n",
              "    }\n",
              "\n",
              "    .colab-df-convert {\n",
              "      background-color: #E8F0FE;\n",
              "      border: none;\n",
              "      border-radius: 50%;\n",
              "      cursor: pointer;\n",
              "      display: none;\n",
              "      fill: #1967D2;\n",
              "      height: 32px;\n",
              "      padding: 0 0 0 0;\n",
              "      width: 32px;\n",
              "    }\n",
              "\n",
              "    .colab-df-convert:hover {\n",
              "      background-color: #E2EBFA;\n",
              "      box-shadow: 0px 1px 2px rgba(60, 64, 67, 0.3), 0px 1px 3px 1px rgba(60, 64, 67, 0.15);\n",
              "      fill: #174EA6;\n",
              "    }\n",
              "\n",
              "    [theme=dark] .colab-df-convert {\n",
              "      background-color: #3B4455;\n",
              "      fill: #D2E3FC;\n",
              "    }\n",
              "\n",
              "    [theme=dark] .colab-df-convert:hover {\n",
              "      background-color: #434B5C;\n",
              "      box-shadow: 0px 1px 3px 1px rgba(0, 0, 0, 0.15);\n",
              "      filter: drop-shadow(0px 1px 2px rgba(0, 0, 0, 0.3));\n",
              "      fill: #FFFFFF;\n",
              "    }\n",
              "  </style>\n",
              "\n",
              "      <script>\n",
              "        const buttonEl =\n",
              "          document.querySelector('#df-d6ebfef3-ccb2-4568-a070-2ac33d7d685d button.colab-df-convert');\n",
              "        buttonEl.style.display =\n",
              "          google.colab.kernel.accessAllowed ? 'block' : 'none';\n",
              "\n",
              "        async function convertToInteractive(key) {\n",
              "          const element = document.querySelector('#df-d6ebfef3-ccb2-4568-a070-2ac33d7d685d');\n",
              "          const dataTable =\n",
              "            await google.colab.kernel.invokeFunction('convertToInteractive',\n",
              "                                                     [key], {});\n",
              "          if (!dataTable) return;\n",
              "\n",
              "          const docLinkHtml = 'Like what you see? Visit the ' +\n",
              "            '<a target=\"_blank\" href=https://colab.research.google.com/notebooks/data_table.ipynb>data table notebook</a>'\n",
              "            + ' to learn more about interactive tables.';\n",
              "          element.innerHTML = '';\n",
              "          dataTable['output_type'] = 'display_data';\n",
              "          await google.colab.output.renderOutput(dataTable, element);\n",
              "          const docLink = document.createElement('div');\n",
              "          docLink.innerHTML = docLinkHtml;\n",
              "          element.appendChild(docLink);\n",
              "        }\n",
              "      </script>\n",
              "    </div>\n",
              "  </div>\n",
              "  "
            ]
          },
          "metadata": {},
          "execution_count": 4
        }
      ]
    },
    {
      "cell_type": "code",
      "source": [
        "df.describe()"
      ],
      "metadata": {
        "colab": {
          "base_uri": "https://localhost:8080/",
          "height": 300
        },
        "id": "FRNXWKWjFNWY",
        "outputId": "4e855ba8-ffd1-4b4a-8040-3b1313e0a94a"
      },
      "execution_count": null,
      "outputs": [
        {
          "output_type": "execute_result",
          "data": {
            "text/plain": [
              "                age      quantity         price\n",
              "count  99457.000000  99457.000000  99457.000000\n",
              "mean      43.427089      3.003429    689.256321\n",
              "std       14.990054      1.413025    941.184567\n",
              "min       18.000000      1.000000      5.230000\n",
              "25%       30.000000      2.000000     45.450000\n",
              "50%       43.000000      3.000000    203.300000\n",
              "75%       56.000000      4.000000   1200.320000\n",
              "max       69.000000      5.000000   5250.000000"
            ],
            "text/html": [
              "\n",
              "  <div id=\"df-fbe62523-67db-4a1c-acae-48ce4e711d24\">\n",
              "    <div class=\"colab-df-container\">\n",
              "      <div>\n",
              "<style scoped>\n",
              "    .dataframe tbody tr th:only-of-type {\n",
              "        vertical-align: middle;\n",
              "    }\n",
              "\n",
              "    .dataframe tbody tr th {\n",
              "        vertical-align: top;\n",
              "    }\n",
              "\n",
              "    .dataframe thead th {\n",
              "        text-align: right;\n",
              "    }\n",
              "</style>\n",
              "<table border=\"1\" class=\"dataframe\">\n",
              "  <thead>\n",
              "    <tr style=\"text-align: right;\">\n",
              "      <th></th>\n",
              "      <th>age</th>\n",
              "      <th>quantity</th>\n",
              "      <th>price</th>\n",
              "    </tr>\n",
              "  </thead>\n",
              "  <tbody>\n",
              "    <tr>\n",
              "      <th>count</th>\n",
              "      <td>99457.000000</td>\n",
              "      <td>99457.000000</td>\n",
              "      <td>99457.000000</td>\n",
              "    </tr>\n",
              "    <tr>\n",
              "      <th>mean</th>\n",
              "      <td>43.427089</td>\n",
              "      <td>3.003429</td>\n",
              "      <td>689.256321</td>\n",
              "    </tr>\n",
              "    <tr>\n",
              "      <th>std</th>\n",
              "      <td>14.990054</td>\n",
              "      <td>1.413025</td>\n",
              "      <td>941.184567</td>\n",
              "    </tr>\n",
              "    <tr>\n",
              "      <th>min</th>\n",
              "      <td>18.000000</td>\n",
              "      <td>1.000000</td>\n",
              "      <td>5.230000</td>\n",
              "    </tr>\n",
              "    <tr>\n",
              "      <th>25%</th>\n",
              "      <td>30.000000</td>\n",
              "      <td>2.000000</td>\n",
              "      <td>45.450000</td>\n",
              "    </tr>\n",
              "    <tr>\n",
              "      <th>50%</th>\n",
              "      <td>43.000000</td>\n",
              "      <td>3.000000</td>\n",
              "      <td>203.300000</td>\n",
              "    </tr>\n",
              "    <tr>\n",
              "      <th>75%</th>\n",
              "      <td>56.000000</td>\n",
              "      <td>4.000000</td>\n",
              "      <td>1200.320000</td>\n",
              "    </tr>\n",
              "    <tr>\n",
              "      <th>max</th>\n",
              "      <td>69.000000</td>\n",
              "      <td>5.000000</td>\n",
              "      <td>5250.000000</td>\n",
              "    </tr>\n",
              "  </tbody>\n",
              "</table>\n",
              "</div>\n",
              "      <button class=\"colab-df-convert\" onclick=\"convertToInteractive('df-fbe62523-67db-4a1c-acae-48ce4e711d24')\"\n",
              "              title=\"Convert this dataframe to an interactive table.\"\n",
              "              style=\"display:none;\">\n",
              "        \n",
              "  <svg xmlns=\"http://www.w3.org/2000/svg\" height=\"24px\"viewBox=\"0 0 24 24\"\n",
              "       width=\"24px\">\n",
              "    <path d=\"M0 0h24v24H0V0z\" fill=\"none\"/>\n",
              "    <path d=\"M18.56 5.44l.94 2.06.94-2.06 2.06-.94-2.06-.94-.94-2.06-.94 2.06-2.06.94zm-11 1L8.5 8.5l.94-2.06 2.06-.94-2.06-.94L8.5 2.5l-.94 2.06-2.06.94zm10 10l.94 2.06.94-2.06 2.06-.94-2.06-.94-.94-2.06-.94 2.06-2.06.94z\"/><path d=\"M17.41 7.96l-1.37-1.37c-.4-.4-.92-.59-1.43-.59-.52 0-1.04.2-1.43.59L10.3 9.45l-7.72 7.72c-.78.78-.78 2.05 0 2.83L4 21.41c.39.39.9.59 1.41.59.51 0 1.02-.2 1.41-.59l7.78-7.78 2.81-2.81c.8-.78.8-2.07 0-2.86zM5.41 20L4 18.59l7.72-7.72 1.47 1.35L5.41 20z\"/>\n",
              "  </svg>\n",
              "      </button>\n",
              "      \n",
              "  <style>\n",
              "    .colab-df-container {\n",
              "      display:flex;\n",
              "      flex-wrap:wrap;\n",
              "      gap: 12px;\n",
              "    }\n",
              "\n",
              "    .colab-df-convert {\n",
              "      background-color: #E8F0FE;\n",
              "      border: none;\n",
              "      border-radius: 50%;\n",
              "      cursor: pointer;\n",
              "      display: none;\n",
              "      fill: #1967D2;\n",
              "      height: 32px;\n",
              "      padding: 0 0 0 0;\n",
              "      width: 32px;\n",
              "    }\n",
              "\n",
              "    .colab-df-convert:hover {\n",
              "      background-color: #E2EBFA;\n",
              "      box-shadow: 0px 1px 2px rgba(60, 64, 67, 0.3), 0px 1px 3px 1px rgba(60, 64, 67, 0.15);\n",
              "      fill: #174EA6;\n",
              "    }\n",
              "\n",
              "    [theme=dark] .colab-df-convert {\n",
              "      background-color: #3B4455;\n",
              "      fill: #D2E3FC;\n",
              "    }\n",
              "\n",
              "    [theme=dark] .colab-df-convert:hover {\n",
              "      background-color: #434B5C;\n",
              "      box-shadow: 0px 1px 3px 1px rgba(0, 0, 0, 0.15);\n",
              "      filter: drop-shadow(0px 1px 2px rgba(0, 0, 0, 0.3));\n",
              "      fill: #FFFFFF;\n",
              "    }\n",
              "  </style>\n",
              "\n",
              "      <script>\n",
              "        const buttonEl =\n",
              "          document.querySelector('#df-fbe62523-67db-4a1c-acae-48ce4e711d24 button.colab-df-convert');\n",
              "        buttonEl.style.display =\n",
              "          google.colab.kernel.accessAllowed ? 'block' : 'none';\n",
              "\n",
              "        async function convertToInteractive(key) {\n",
              "          const element = document.querySelector('#df-fbe62523-67db-4a1c-acae-48ce4e711d24');\n",
              "          const dataTable =\n",
              "            await google.colab.kernel.invokeFunction('convertToInteractive',\n",
              "                                                     [key], {});\n",
              "          if (!dataTable) return;\n",
              "\n",
              "          const docLinkHtml = 'Like what you see? Visit the ' +\n",
              "            '<a target=\"_blank\" href=https://colab.research.google.com/notebooks/data_table.ipynb>data table notebook</a>'\n",
              "            + ' to learn more about interactive tables.';\n",
              "          element.innerHTML = '';\n",
              "          dataTable['output_type'] = 'display_data';\n",
              "          await google.colab.output.renderOutput(dataTable, element);\n",
              "          const docLink = document.createElement('div');\n",
              "          docLink.innerHTML = docLinkHtml;\n",
              "          element.appendChild(docLink);\n",
              "        }\n",
              "      </script>\n",
              "    </div>\n",
              "  </div>\n",
              "  "
            ]
          },
          "metadata": {},
          "execution_count": 7
        }
      ]
    },
    {
      "cell_type": "code",
      "source": [
        "df.info()"
      ],
      "metadata": {
        "colab": {
          "base_uri": "https://localhost:8080/"
        },
        "id": "yeVMd6bIF8J3",
        "outputId": "a16319d0-c2d9-4f32-acd6-b872cfd61b30"
      },
      "execution_count": null,
      "outputs": [
        {
          "output_type": "stream",
          "name": "stdout",
          "text": [
            "<class 'pandas.core.frame.DataFrame'>\n",
            "RangeIndex: 99457 entries, 0 to 99456\n",
            "Data columns (total 10 columns):\n",
            " #   Column          Non-Null Count  Dtype  \n",
            "---  ------          --------------  -----  \n",
            " 0   invoice_no      99457 non-null  object \n",
            " 1   customer_id     99457 non-null  object \n",
            " 2   gender          99457 non-null  object \n",
            " 3   age             99457 non-null  int64  \n",
            " 4   category        99457 non-null  object \n",
            " 5   quantity        99457 non-null  int64  \n",
            " 6   price           99457 non-null  float64\n",
            " 7   payment_method  99457 non-null  object \n",
            " 8   invoice_date    99457 non-null  object \n",
            " 9   shopping_mall   99457 non-null  object \n",
            "dtypes: float64(1), int64(2), object(7)\n",
            "memory usage: 7.6+ MB\n"
          ]
        }
      ]
    },
    {
      "cell_type": "code",
      "source": [
        "df.shape"
      ],
      "metadata": {
        "colab": {
          "base_uri": "https://localhost:8080/"
        },
        "id": "8xyK5R05F-o9",
        "outputId": "6f6d8dec-100d-4299-a40d-c4e49b2c1561"
      },
      "execution_count": null,
      "outputs": [
        {
          "output_type": "execute_result",
          "data": {
            "text/plain": [
              "(99457, 10)"
            ]
          },
          "metadata": {},
          "execution_count": 4
        }
      ]
    },
    {
      "cell_type": "code",
      "source": [
        "df.size"
      ],
      "metadata": {
        "colab": {
          "base_uri": "https://localhost:8080/"
        },
        "id": "5bEn8cR_GAaS",
        "outputId": "8e462b96-be82-40f9-968a-652caab2be0e"
      },
      "execution_count": null,
      "outputs": [
        {
          "output_type": "execute_result",
          "data": {
            "text/plain": [
              "994570"
            ]
          },
          "metadata": {},
          "execution_count": 5
        }
      ]
    },
    {
      "cell_type": "code",
      "source": [
        "df.nunique()"
      ],
      "metadata": {
        "colab": {
          "base_uri": "https://localhost:8080/"
        },
        "id": "6WEpMkH8GCD9",
        "outputId": "5bb2eb9a-7135-42b8-a3e7-a82a6113024c"
      },
      "execution_count": null,
      "outputs": [
        {
          "output_type": "execute_result",
          "data": {
            "text/plain": [
              "invoice_no        99457\n",
              "customer_id       99457\n",
              "gender                2\n",
              "age                  52\n",
              "category              8\n",
              "quantity              5\n",
              "price                40\n",
              "payment_method        3\n",
              "invoice_date        797\n",
              "shopping_mall        10\n",
              "dtype: int64"
            ]
          },
          "metadata": {},
          "execution_count": 6
        }
      ]
    },
    {
      "cell_type": "code",
      "source": [
        "df=df.drop(axis=True,columns='invoice_no')"
      ],
      "metadata": {
        "id": "vsp6bbjRGdg1"
      },
      "execution_count": 4,
      "outputs": []
    },
    {
      "cell_type": "code",
      "source": [
        "df['invoice_date']=df['invoice_date'].apply(pd.to_datetime)"
      ],
      "metadata": {
        "id": "anXSa3jfLZ8c"
      },
      "execution_count": null,
      "outputs": []
    },
    {
      "cell_type": "code",
      "source": [
        "df.isnull().sum()"
      ],
      "metadata": {
        "colab": {
          "base_uri": "https://localhost:8080/"
        },
        "id": "uN-RETs3LUIj",
        "outputId": "89b106f2-43b3-430c-e688-0d866f750102"
      },
      "execution_count": null,
      "outputs": [
        {
          "output_type": "execute_result",
          "data": {
            "text/plain": [
              "customer_id       0\n",
              "gender            0\n",
              "age               0\n",
              "category          0\n",
              "quantity          0\n",
              "price             0\n",
              "payment_method    0\n",
              "invoice_date      0\n",
              "shopping_mall     0\n",
              "dtype: int64"
            ]
          },
          "metadata": {},
          "execution_count": 9
        }
      ]
    },
    {
      "cell_type": "code",
      "source": [
        "df.info()"
      ],
      "metadata": {
        "colab": {
          "base_uri": "https://localhost:8080/"
        },
        "id": "sGZCLj2KHVAV",
        "outputId": "cdaa782d-b827-4b06-d0bf-bc1c962c7334"
      },
      "execution_count": null,
      "outputs": [
        {
          "output_type": "stream",
          "name": "stdout",
          "text": [
            "<class 'pandas.core.frame.DataFrame'>\n",
            "RangeIndex: 99457 entries, 0 to 99456\n",
            "Data columns (total 9 columns):\n",
            " #   Column          Non-Null Count  Dtype         \n",
            "---  ------          --------------  -----         \n",
            " 0   customer_id     99457 non-null  object        \n",
            " 1   gender          99457 non-null  object        \n",
            " 2   age             99457 non-null  int64         \n",
            " 3   category        99457 non-null  object        \n",
            " 4   quantity        99457 non-null  int64         \n",
            " 5   price           99457 non-null  float64       \n",
            " 6   payment_method  99457 non-null  object        \n",
            " 7   invoice_date    99457 non-null  datetime64[ns]\n",
            " 8   shopping_mall   99457 non-null  object        \n",
            "dtypes: datetime64[ns](1), float64(1), int64(2), object(5)\n",
            "memory usage: 6.8+ MB\n"
          ]
        }
      ]
    },
    {
      "cell_type": "code",
      "source": [
        "df.duplicated().value_counts()"
      ],
      "metadata": {
        "colab": {
          "base_uri": "https://localhost:8080/"
        },
        "id": "fyGJhN8mMFMz",
        "outputId": "4892eca9-6462-4921-9261-6ddb4faf8445"
      },
      "execution_count": null,
      "outputs": [
        {
          "output_type": "execute_result",
          "data": {
            "text/plain": [
              "False    99457\n",
              "dtype: int64"
            ]
          },
          "metadata": {},
          "execution_count": 11
        }
      ]
    },
    {
      "cell_type": "code",
      "source": [
        "df['gender'].value_counts().sort_index(ascending=False)"
      ],
      "metadata": {
        "colab": {
          "base_uri": "https://localhost:8080/"
        },
        "id": "nEidF0R4G-Dx",
        "outputId": "71fa3fd3-f88f-433d-e6e9-a0e736445f2f"
      },
      "execution_count": null,
      "outputs": [
        {
          "output_type": "execute_result",
          "data": {
            "text/plain": [
              "Male      39975\n",
              "Female    59482\n",
              "Name: gender, dtype: int64"
            ]
          },
          "metadata": {},
          "execution_count": 13
        }
      ]
    },
    {
      "cell_type": "code",
      "source": [
        "# Calculate the count of each gender\n",
        "\n",
        "gender_count=df['gender'].value_counts()\n",
        "\n",
        "#create pie chart\n",
        "\n",
        "fig,ax=plt.subplots()\n",
        "ax.pie(gender_count,labels=gender_count.index,autopct='%1.1f%%')\n",
        "\n",
        "ax.set_title('Customer Gender Distribution')\n",
        "plt.show()"
      ],
      "metadata": {
        "colab": {
          "base_uri": "https://localhost:8080/",
          "height": 264
        },
        "id": "yHnaXCT6Mbp5",
        "outputId": "3a4d0216-b004-4e16-dad2-7dcf6ec731c1"
      },
      "execution_count": 5,
      "outputs": [
        {
          "output_type": "display_data",
          "data": {
            "text/plain": [
              "<Figure size 432x288 with 1 Axes>"
            ],
            "image/png": "[encoded data removed]"
          },
          "metadata": {}
        }
      ]
    },
    {
      "cell_type": "code",
      "source": [
        "gender_count"
      ],
      "metadata": {
        "colab": {
          "base_uri": "https://localhost:8080/"
        },
        "id": "RWJ__j6_QcOv",
        "outputId": "b11c1579-03c5-4413-9766-d4e44fbaca65"
      },
      "execution_count": null,
      "outputs": [
        {
          "output_type": "execute_result",
          "data": {
            "text/plain": [
              "Female    59482\n",
              "Male      39975\n",
              "Name: gender, dtype: int64"
            ]
          },
          "metadata": {},
          "execution_count": 17
        }
      ]
    },
    {
      "cell_type": "code",
      "source": [
        "category_df=df['category'].value_counts()"
      ],
      "metadata": {
        "id": "1p9fS9lupCUF"
      },
      "execution_count": null,
      "outputs": []
    },
    {
      "cell_type": "code",
      "source": [
        "category_df"
      ],
      "metadata": {
        "colab": {
          "base_uri": "https://localhost:8080/"
        },
        "id": "0SoWenq3pe6c",
        "outputId": "73c5432d-31e4-45be-f7b8-f3d53747d453"
      },
      "execution_count": null,
      "outputs": [
        {
          "output_type": "execute_result",
          "data": {
            "text/plain": [
              "Clothing           34487\n",
              "Cosmetics          15097\n",
              "Food & Beverage    14776\n",
              "Toys               10087\n",
              "Shoes              10034\n",
              "Souvenir            4999\n",
              "Technology          4996\n",
              "Books               4981\n",
              "Name: category, dtype: int64"
            ]
          },
          "metadata": {},
          "execution_count": 19
        }
      ]
    },
    {
      "cell_type": "code",
      "source": [
        "# create a bar chart to visualize the count of each category\n",
        "\n",
        "fig,ax=plt.subplots(figsize=(10,8))\n",
        "category_df.plot(kind='bar',color='blue')\n",
        "plt.title('Count of Orders by Category')\n",
        "ax.set_xlabel(\"Category\")\n",
        "ax.set_ylabel(\"Count\")\n",
        "\n",
        "#add labels to bar\n",
        "\n",
        "for i,count in enumerate(category_df):\n",
        "  plt.text(i,count,str(count),color='black',ha='center',fontsize=12)\n",
        "\n",
        "plt.show()"
      ],
      "metadata": {
        "colab": {
          "base_uri": "https://localhost:8080/",
          "height": 588
        },
        "id": "ArJj1dZlpgn4",
        "outputId": "7b5eed7f-b6f0-406e-ced5-e21f1ae98275"
      },
      "execution_count": null,
      "outputs": [
        {
          "output_type": "display_data",
          "data": {
            "text/plain": [
              "<Figure size 720x576 with 1 Axes>"
            ],
            "image/png": "[encoded data removed]"
          },
          "metadata": {
            "needs_background": "light"
          }
        }
      ]
    },
    {
      "cell_type": "code",
      "source": [
        "# horizontal bar chart of each category with average price\n",
        "\n",
        "category_hbar=df.groupby('category')['price'].mean().sort_values(ascending=False)\n",
        "fig=plt.figure(figsize=(7,6))\n",
        "\n",
        "category_hbar.plot(kind='barh',color='blue',fontsize=14)\n",
        "\n",
        "plt.xlabel(\"Count\",fontsize=14)\n",
        "plt.ylabel(\"Category\",fontsize=14)\n",
        "plt.title('Average price for each category',fontsize=17)\n",
        "\n",
        "fig.set_dpi(100)\n",
        "\n",
        "for i,count in enumerate(category_hbar):\n",
        "  plt.text(count,i,str(round(count,2)),color='purple',ha='left',fontsize=12)\n",
        "\n",
        "\n",
        "plt.show()"
      ],
      "metadata": {
        "colab": {
          "base_uri": "https://localhost:8080/",
          "height": 570
        },
        "id": "qd825kU1xDMq",
        "outputId": "320a2792-0d06-420c-a0be-1b3dc297927d"
      },
      "execution_count": null,
      "outputs": [
        {
          "output_type": "display_data",
          "data": {
            "text/plain": [
              "<Figure size 700x600 with 1 Axes>"
            ],
            "image/png": "[encoded data removed]"
          },
          "metadata": {
            "needs_background": "light"
          }
        }
      ]
    },
    {
      "cell_type": "code",
      "source": [
        "category_hbar=df.groupby('category')['price'].mean()"
      ],
      "metadata": {
        "colab": {
          "base_uri": "https://localhost:8080/"
        },
        "id": "TDYJ_rKDyNVw",
        "outputId": "984ff254-d844-4890-e49a-e33ad1492fd6"
      },
      "execution_count": null,
      "outputs": [
        {
          "output_type": "execute_result",
          "data": {
            "text/plain": [
              "category\n",
              "Books                45.568621\n",
              "Clothing            901.084021\n",
              "Cosmetics           122.448626\n",
              "Food & Beverage      15.671948\n",
              "Shoes              1807.388568\n",
              "Souvenir             34.894345\n",
              "Technology         3156.935548\n",
              "Toys                107.733185\n",
              "Name: price, dtype: float64"
            ]
          },
          "metadata": {},
          "execution_count": 54
        }
      ]
    },
    {
      "cell_type": "code",
      "source": [
        "#calculate count of each payment_count\n",
        "\n",
        "payment_count=df['payment_method'].value_counts()"
      ],
      "metadata": {
        "id": "uF5Qztb09-Ii"
      },
      "execution_count": null,
      "outputs": []
    },
    {
      "cell_type": "code",
      "source": [
        "payment_count"
      ],
      "metadata": {
        "colab": {
          "base_uri": "https://localhost:8080/"
        },
        "id": "sakXyJSaytkq",
        "outputId": "4f682931-9180-475b-b858-3f695c8c1722"
      },
      "execution_count": null,
      "outputs": [
        {
          "output_type": "execute_result",
          "data": {
            "text/plain": [
              "Cash           44447\n",
              "Credit Card    34931\n",
              "Debit Card     20079\n",
              "Name: payment_method, dtype: int64"
            ]
          },
          "metadata": {},
          "execution_count": 117
        }
      ]
    },
    {
      "cell_type": "code",
      "source": [
        "#create pie chart\n",
        "fig,ax=plt.subplots(figsize=(10,8))\n",
        "ax.pie(payment_count,labels=payment_count.index,autopct='%1.1f%%')\n",
        "ax.set_title(\"Distribution of payment methods\")\n",
        "\n",
        "fig.set_dpi(100)\n",
        "\n",
        "plt.show()"
      ],
      "metadata": {
        "colab": {
          "base_uri": "https://localhost:8080/",
          "height": 663
        },
        "id": "GNsK7HH_-PeG",
        "outputId": "df2c8c9a-4cce-4a14-df94-88707f0a5837"
      },
      "execution_count": null,
      "outputs": [
        {
          "output_type": "display_data",
          "data": {
            "text/plain": [
              "<Figure size 1000x800 with 1 Axes>"
            ],
            "image/png": "[encoded data removed]"
          },
          "metadata": {}
        }
      ]
    },
    {
      "cell_type": "code",
      "source": [
        "# Define age groups\n",
        "age_groups = [0, 18, 25, 35, 45, 55, 65, 100]\n",
        "labels = ['0-17', '18-24', '25-34', '35-44', '45-54', '55-64', '65+']\n",
        "# Create age groups based on the age column\n",
        "df['Age Group'] = pd.cut(df['age'], bins=age_groups, labels=labels)\n",
        "# Create a histogram of age groups\n",
        "fig, ax = plt.subplots(figsize=(8, 6))\n",
        "df['Age Group'].value_counts().sort_index().plot(kind='bar', color='red', ax=ax)\n",
        "ax.set_xlabel('Age Group')\n",
        "ax.set_ylabel('Count')\n",
        "ax.set_title('Customer Age Group Distribution')\n",
        "# Add labels to histogram bars\n",
        "for i in ax.containers:\n",
        "  ax.bar_label(i) "
      ],
      "metadata": {
        "id": "bKiDQoob_RvN",
        "colab": {
          "base_uri": "https://localhost:8080/",
          "height": 423
        },
        "outputId": "b09b265f-6cfe-4a86-d394-474b7fa64edf"
      },
      "execution_count": 7,
      "outputs": [
        {
          "output_type": "display_data",
          "data": {
            "text/plain": [
              "<Figure size 576x432 with 1 Axes>"
            ],
            "image/png": "[encoded data removed]"
          },
          "metadata": {
            "needs_background": "light"
          }
        }
      ]
    },
    {
      "cell_type": "code",
      "source": [
        "df['Age Group']"
      ],
      "metadata": {
        "colab": {
          "base_uri": "https://localhost:8080/"
        },
        "id": "EvGcONcu3ASU",
        "outputId": "b7528037-3750-4f72-fe7b-4d2dc78ea2f5"
      },
      "execution_count": 8,
      "outputs": [
        {
          "output_type": "execute_result",
          "data": {
            "text/plain": [
              "0        25-34\n",
              "1        18-24\n",
              "2        18-24\n",
              "3          65+\n",
              "4        45-54\n",
              "         ...  \n",
              "99452    35-44\n",
              "99453    25-34\n",
              "99454    55-64\n",
              "99455    55-64\n",
              "99456    35-44\n",
              "Name: Age Group, Length: 99457, dtype: category\n",
              "Categories (7, object): ['0-17' < '18-24' < '25-34' < '35-44' < '45-54' < '55-64' < '65+']"
            ]
          },
          "metadata": {},
          "execution_count": 8
        }
      ]
    },
    {
      "cell_type": "code",
      "source": [
        "#count of number of malls \n",
        "malls_df=df['shopping_mall'].value_counts()"
      ],
      "metadata": {
        "id": "ShpzXQJk3IuM"
      },
      "execution_count": 10,
      "outputs": []
    },
    {
      "cell_type": "code",
      "source": [
        "fig,ax=plt.subplots(figsize=(10,9))\n",
        "malls_df.plot(kind='bar',color='red')\n",
        "ax.set_xlabel(\"Malls\",fontsize=12)\n",
        "ax.set_ylabel(\"Count\",fontsize=12)\n",
        "ax.set_title('customer count for  shopping malls',fontsize=12)\n",
        "\n",
        "fig.set_dpi(100)\n",
        "for i,count in enumerate(malls_df):\n",
        "  plt.text(i,count,str(count),color='purple',ha='center',fontsize=10)\n",
        "plt.show()"
      ],
      "metadata": {
        "colab": {
          "base_uri": "https://localhost:8080/",
          "height": 903
        },
        "id": "ufr_PcYW5r0Y",
        "outputId": "4029c77b-d81c-467a-f164-a530d18240fa"
      },
      "execution_count": 42,
      "outputs": [
        {
          "output_type": "display_data",
          "data": {
            "text/plain": [
              "<Figure size 1000x900 with 1 Axes>"
            ],
            "image/png": "[encoded data removed]"
          },
          "metadata": {
            "needs_background": "light"
          }
        }
      ]
    },
    {
      "cell_type": "code",
      "source": [
        "#create a scatter plot to visualize the relationship between price and quantity\n",
        "plt.figure(figsize=(10,9))\n",
        "\n",
        "plt.scatter('price','quantity',color='orange',data=df)\n",
        "plt.xlabel('Price',fontsize=11)\n",
        "plt.ylabel('Quantity',fontsize=11)\n",
        "plt.title('Price Vs Quantity',fontsize=11)\n",
        "\n",
        "fig.set_dpi(100)\n",
        "plt.show()"
      ],
      "metadata": {
        "colab": {
          "base_uri": "https://localhost:8080/",
          "height": 565
        },
        "id": "j3QroPUF5tmZ",
        "outputId": "a644e252-8c1a-4835-dc3f-74d0106d8100"
      },
      "execution_count": 41,
      "outputs": [
        {
          "output_type": "display_data",
          "data": {
            "text/plain": [
              "<Figure size 720x648 with 1 Axes>"
            ],
            "image/png": "[encoded data removed]"
          },
          "metadata": {
            "needs_background": "light"
          }
        }
      ]
    },
    {
      "cell_type": "code",
      "source": [
        "\n"
      ],
      "metadata": {
        "id": "eRWbVWJO9M0A"
      },
      "execution_count": null,
      "outputs": []
    }
  ]
}